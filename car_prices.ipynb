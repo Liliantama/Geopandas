{
 "cells": [
  {
   "cell_type": "markdown",
   "metadata": {},
   "source": [
    "1.  How many car models are there?"
   ]
  },
  {
   "cell_type": "code",
   "execution_count": 1,
   "metadata": {},
   "outputs": [],
   "source": [
    "import pandas"
   ]
  },
  {
   "cell_type": "code",
   "execution_count": 2,
   "metadata": {},
   "outputs": [],
   "source": [
    "import pandas as pd"
   ]
  },
  {
   "cell_type": "code",
   "execution_count": 38,
   "metadata": {},
   "outputs": [
    {
     "name": "stderr",
     "output_type": "stream",
     "text": [
      "<>:1: SyntaxWarning: invalid escape sequence '\\A'\n",
      "<>:1: SyntaxWarning: invalid escape sequence '\\A'\n",
      "C:\\Users\\ADMIN\\AppData\\Local\\Temp\\ipykernel_2820\\3803379882.py:1: SyntaxWarning: invalid escape sequence '\\A'\n",
      "  df=pd.read_csv(\"\\\\Users\\ADMIN\\Downloads\\car_prices.csv\")\n"
     ]
    }
   ],
   "source": [
    "df=pd.read_csv(\"\\\\Users\\ADMIN\\Downloads\\car_prices.csv\")"
   ]
  },
  {
   "cell_type": "code",
   "execution_count": 41,
   "metadata": {},
   "outputs": [
    {
     "name": "stderr",
     "output_type": "stream",
     "text": [
      "<>:1: SyntaxWarning: invalid escape sequence '\\A'\n",
      "<>:1: SyntaxWarning: invalid escape sequence '\\A'\n",
      "C:\\Users\\ADMIN\\AppData\\Local\\Temp\\ipykernel_2820\\2616298397.py:1: SyntaxWarning: invalid escape sequence '\\A'\n",
      "  car_prices=pd.read_csv(\"\\\\Users\\ADMIN\\Downloads\\car_prices.csv\")\n"
     ]
    }
   ],
   "source": [
    "car_prices=pd.read_csv(\"\\\\Users\\ADMIN\\Downloads\\car_prices.csv\")"
   ]
  },
  {
   "cell_type": "code",
   "execution_count": 9,
   "metadata": {},
   "outputs": [
    {
     "name": "stdout",
     "output_type": "stream",
     "text": [
      "year              int64\n",
      "make             object\n",
      "model            object\n",
      "trim             object\n",
      "body             object\n",
      "transmission     object\n",
      "vin              object\n",
      "state            object\n",
      "condition       float64\n",
      "odometer        float64\n",
      "color            object\n",
      "interior         object\n",
      "seller           object\n",
      "mmr             float64\n",
      "sellingprice    float64\n",
      "saledate         object\n",
      "dtype: object\n"
     ]
    }
   ],
   "source": [
    "print(car_prices.dtypes)\n"
   ]
  },
  {
   "cell_type": "markdown",
   "metadata": {},
   "source": [
    "How many car models are there?"
   ]
  },
  {
   "cell_type": "code",
   "execution_count": 10,
   "metadata": {},
   "outputs": [
    {
     "name": "stdout",
     "output_type": "stream",
     "text": [
      "There are 973 unique car models in the dataset.\n"
     ]
    }
   ],
   "source": [
    "unique_models = car_prices['model'].nunique()\n",
    "\n",
    "print(f'There are {unique_models} unique car models in the dataset.')"
   ]
  },
  {
   "cell_type": "markdown",
   "metadata": {},
   "source": [
    "2. which seller has sold the most cars?"
   ]
  },
  {
   "cell_type": "code",
   "execution_count": 11,
   "metadata": {},
   "outputs": [
    {
     "name": "stdout",
     "output_type": "stream",
     "text": [
      "The seller with the most car sales is: nissan-infiniti lt with 19693 cars sold.\n"
     ]
    }
   ],
   "source": [
    "top_seller = car_prices['seller'].value_counts().idxmax()\n",
    "top_seller_count = car_prices['seller'].value_counts().max()\n",
    "\n",
    "print(f'The seller with the most car sales is: {top_seller} with {top_seller_count} cars sold.')\n"
   ]
  },
  {
   "cell_type": "markdown",
   "metadata": {},
   "source": [
    "3. Which is the most expensive car?"
   ]
  },
  {
   "cell_type": "code",
   "execution_count": 14,
   "metadata": {},
   "outputs": [
    {
     "name": "stdout",
     "output_type": "stream",
     "text": [
      "The most expensive car is:\n",
      "year                                               2014\n",
      "make                                               Ford\n",
      "model                                            Escape\n",
      "trim                                           Titanium\n",
      "body                                                SUV\n",
      "transmission                                  automatic\n",
      "vin                                   1fmcu9j98eua23833\n",
      "state                                                mo\n",
      "condition                                          43.0\n",
      "odometer                                        27802.0\n",
      "color                                             green\n",
      "interior                                            tan\n",
      "seller                      ford-lincoln dealer program\n",
      "mmr                                             22800.0\n",
      "sellingprice                                   230000.0\n",
      "saledate        Wed Feb 25 2015 02:00:00 GMT-0800 (PST)\n",
      "Name: 344905, dtype: object\n"
     ]
    }
   ],
   "source": [
    "most_expensive_car = car_prices.loc[car_prices['sellingprice'].idxmax()]\n",
    "\n",
    "print(f\"The most expensive car is:\")\n",
    "print(most_expensive_car)"
   ]
  },
  {
   "cell_type": "markdown",
   "metadata": {},
   "source": [
    "4.print out the NAN in the car conditions column"
   ]
  },
  {
   "cell_type": "code",
   "execution_count": 19,
   "metadata": {},
   "outputs": [
    {
     "name": "stdout",
     "output_type": "stream",
     "text": [
      "Rows with NaN values in 'condition' column:\n",
      "        year        make        model                    trim         body  \\\n",
      "14      2014   Chevrolet        Cruze                     2LT        Sedan   \n",
      "16      2015     Hyundai       Sonata                      SE        Sedan   \n",
      "22      2014   Chevrolet       Camaro                      LT  Convertible   \n",
      "25      2015     Hyundai       Sonata                      SE        Sedan   \n",
      "28      2014         BMW           X5               sDrive35i          SUV   \n",
      "...      ...         ...          ...                     ...          ...   \n",
      "529622  2015  Volkswagen        Jetta  SE PZEV w/Connectivity  Navitgation   \n",
      "541568  2005   Chevrolet  Astro Cargo                    Base      minivan   \n",
      "548784  2015  Volkswagen        Jetta  SE PZEV w/Connectivity  Navitgation   \n",
      "551222  2015  Volkswagen        Jetta  SE PZEV w/Connectivity  Navitgation   \n",
      "554710  2015  Volkswagen        Jetta  SE PZEV w/Connectivity  Navitgation   \n",
      "\n",
      "       transmission                vin              state  condition  \\\n",
      "14        automatic  1g1pe5sbxe7120097                 ca        NaN   \n",
      "16        automatic  5npe24af4fh001562                 ca        NaN   \n",
      "22        automatic  2g1fb3d31e9134662                 ca        NaN   \n",
      "25        automatic  5npe24af4fh038482                 ca        NaN   \n",
      "28        automatic  5uxkr2c52e0h33130                 ca        NaN   \n",
      "...             ...                ...                ...        ...   \n",
      "529622        sedan          automatic  3vwd17aj5fm225953        NaN   \n",
      "541568          NaN  1gcdm19x05b120470                 on        NaN   \n",
      "548784        sedan          automatic  3vwd17aj7fm326640        NaN   \n",
      "551222        sedan                NaN  3vwd17aj8fm239622        NaN   \n",
      "554710        sedan          automatic  3vwd17aj2fm261566        NaN   \n",
      "\n",
      "        odometer   color interior  \\\n",
      "14       15686.0    blue    black   \n",
      "16        8311.0     red        —   \n",
      "22       33450.0   black    black   \n",
      "25        9281.0  silver     gray   \n",
      "28       11278.0    gray    black   \n",
      "...          ...     ...      ...   \n",
      "529622      41.0   18561    black   \n",
      "541568  126798.0     red     gray   \n",
      "548784       2.0    2846     blue   \n",
      "551222       2.0    9562   silver   \n",
      "554710      48.0    5001     blue   \n",
      "\n",
      "                                                   seller      mmr  \\\n",
      "14                                   avis rac/san leandro  13900.0   \n",
      "16                                               avis tra  15200.0   \n",
      "22                                   avis rac/san leandro  20100.0   \n",
      "25      enterprise vehicle exchange / tra / rental / t...  15150.0   \n",
      "28                                   avis rac/san leandro  50400.0   \n",
      "...                                                   ...      ...   \n",
      "529622                                              black      NaN   \n",
      "541568                                 jim pattison lease   4925.0   \n",
      "548784                                              black      NaN   \n",
      "551222                                              black      NaN   \n",
      "554710                                               gray      NaN   \n",
      "\n",
      "        sellingprice                                 saledate  \n",
      "14           10600.0  Tue Dec 16 2014 12:00:00 GMT-0800 (PST)  \n",
      "16            4200.0  Tue Dec 16 2014 13:00:00 GMT-0800 (PST)  \n",
      "22           14700.0  Tue Dec 16 2014 12:00:00 GMT-0800 (PST)  \n",
      "25            8500.0  Tue Dec 16 2014 13:00:00 GMT-0800 (PST)  \n",
      "28           34000.0  Tue Dec 16 2014 13:00:00 GMT-0800 (PST)  \n",
      "...              ...                                      ...  \n",
      "529622       13200.0                                    13100  \n",
      "541568        3300.0  Tue Jun 16 2015 03:00:00 GMT-0700 (PDT)  \n",
      "548784       13600.0                                     7500  \n",
      "551222       13200.0                                    12100  \n",
      "554710       13400.0                                    13600  \n",
      "\n",
      "[11820 rows x 16 columns]\n"
     ]
    }
   ],
   "source": [
    "nan_condition = car_prices[car_prices['condition'].isna()]\n",
    "\n",
    "print(\"Rows with NaN values in 'condition' column:\")\n",
    "print(nan_condition)"
   ]
  },
  {
   "cell_type": "markdown",
   "metadata": {},
   "source": [
    "5.what is the date difference between the first BMW sale and the last BMW sale?"
   ]
  },
  {
   "cell_type": "code",
   "execution_count": 20,
   "metadata": {},
   "outputs": [
    {
     "name": "stdout",
     "output_type": "stream",
     "text": [
      "The date difference between the first and last BMW sale is: NaT\n"
     ]
    }
   ],
   "source": [
    "bmw_sales = car_prices[car_prices['model'] == 'BMW']\n",
    "\n",
    "bmw_sales['saledate'] = pd.to_datetime(bmw_sales['saledate'])\n",
    "\n",
    "date_diff = bmw_sales['saledate'].max() - bmw_sales['saledate'].min()\n",
    "\n",
    "print(f\"The date difference between the first and last BMW sale is: {date_diff}\")\n"
   ]
  },
  {
   "cell_type": "markdown",
   "metadata": {},
   "source": [
    "dates of the first and last sale of BMW"
   ]
  },
  {
   "cell_type": "code",
   "execution_count": 27,
   "metadata": {},
   "outputs": [
    {
     "name": "stdout",
     "output_type": "stream",
     "text": [
      "The first BMW sale date is: 2014-01-02 08:29:00+08:00\n",
      "The last BMW sale date is: 2015-03-06 07:00:00+08:00\n"
     ]
    }
   ],
   "source": [
    "df['saledate'] = pd.to_datetime(df['saledate'], errors='coerce')\n",
    "bmw_sales = df[df['make'] == 'BMW']\n",
    "\n",
    "first_bmw_sale_date = bmw_sales['saledate'].min()\n",
    "last_bmw_sale_date = bmw_sales['saledate'].max()\n",
    "\n",
    "print(f\"The first BMW sale date is: {first_bmw_sale_date}\")\n",
    "print(f\"The last BMW sale date is: {last_bmw_sale_date}\")"
   ]
  },
  {
   "cell_type": "markdown",
   "metadata": {},
   "source": [
    "6. Which car has the most unique interior?"
   ]
  },
  {
   "cell_type": "code",
   "execution_count": 28,
   "metadata": {},
   "outputs": [
    {
     "name": "stdout",
     "output_type": "stream",
     "text": [
      "The car with the most unique interiors is: 3 Series with 16 unique interiors.\n"
     ]
    }
   ],
   "source": [
    "\n",
    "unique_interiors = car_prices.groupby('model')['interior'].nunique()\n",
    "\n",
    "most_unique_interior_car = unique_interiors.idxmax()\n",
    "most_unique_interior_count = unique_interiors.max()\n",
    "\n",
    "print(f\"The car with the most unique interiors is: {most_unique_interior_car} with {most_unique_interior_count} unique interiors.\")\n"
   ]
  },
  {
   "cell_type": "markdown",
   "metadata": {},
   "source": [
    "7. which year had the most car sales?"
   ]
  },
  {
   "cell_type": "code",
   "execution_count": 31,
   "metadata": {},
   "outputs": [
    {
     "name": "stderr",
     "output_type": "stream",
     "text": [
      "C:\\Users\\ADMIN\\AppData\\Local\\Temp\\ipykernel_2820\\2564776455.py:2: UserWarning: Could not infer format, so each element will be parsed individually, falling back to `dateutil`. To ensure parsing is consistent and as-expected, please specify a format.\n",
      "  car_prices['saledate'] = pd.to_datetime(car_prices['saledate'])\n"
     ]
    },
    {
     "ename": "DateParseError",
     "evalue": "year 16500 is out of range: 16500, at position 2896",
     "output_type": "error",
     "traceback": [
      "\u001b[1;31m---------------------------------------------------------------------------\u001b[0m",
      "\u001b[1;31mValueError\u001b[0m                                Traceback (most recent call last)",
      "File \u001b[1;32mparsing.pyx:684\u001b[0m, in \u001b[0;36mpandas._libs.tslibs.parsing.dateutil_parse\u001b[1;34m()\u001b[0m\n",
      "\u001b[1;31mValueError\u001b[0m: year 16500 is out of range",
      "\nThe above exception was the direct cause of the following exception:\n",
      "\u001b[1;31mDateParseError\u001b[0m                            Traceback (most recent call last)",
      "Cell \u001b[1;32mIn[31], line 2\u001b[0m\n\u001b[0;32m      1\u001b[0m \u001b[38;5;66;03m# Convert the 'date' column to datetime format\u001b[39;00m\n\u001b[1;32m----> 2\u001b[0m car_prices[\u001b[38;5;124m'\u001b[39m\u001b[38;5;124msaledate\u001b[39m\u001b[38;5;124m'\u001b[39m] \u001b[38;5;241m=\u001b[39m \u001b[43mpd\u001b[49m\u001b[38;5;241;43m.\u001b[39;49m\u001b[43mto_datetime\u001b[49m\u001b[43m(\u001b[49m\u001b[43mcar_prices\u001b[49m\u001b[43m[\u001b[49m\u001b[38;5;124;43m'\u001b[39;49m\u001b[38;5;124;43msaledate\u001b[39;49m\u001b[38;5;124;43m'\u001b[39;49m\u001b[43m]\u001b[49m\u001b[43m)\u001b[49m\n\u001b[0;32m      4\u001b[0m \u001b[38;5;66;03m# Extract the year from the 'date' column\u001b[39;00m\n\u001b[0;32m      5\u001b[0m car_prices[\u001b[38;5;124m'\u001b[39m\u001b[38;5;124myear\u001b[39m\u001b[38;5;124m'\u001b[39m] \u001b[38;5;241m=\u001b[39m car_prices[\u001b[38;5;124m'\u001b[39m\u001b[38;5;124msaledate\u001b[39m\u001b[38;5;124m'\u001b[39m]\u001b[38;5;241m.\u001b[39mdt\u001b[38;5;241m.\u001b[39myear\n",
      "File \u001b[1;32mc:\\Users\\ADMIN\\AppData\\Local\\Programs\\Python\\Python312\\Lib\\site-packages\\pandas\\core\\tools\\datetimes.py:1063\u001b[0m, in \u001b[0;36mto_datetime\u001b[1;34m(arg, errors, dayfirst, yearfirst, utc, format, exact, unit, infer_datetime_format, origin, cache)\u001b[0m\n\u001b[0;32m   1061\u001b[0m             result \u001b[38;5;241m=\u001b[39m arg\u001b[38;5;241m.\u001b[39mtz_localize(\u001b[38;5;124m\"\u001b[39m\u001b[38;5;124mutc\u001b[39m\u001b[38;5;124m\"\u001b[39m)\n\u001b[0;32m   1062\u001b[0m \u001b[38;5;28;01melif\u001b[39;00m \u001b[38;5;28misinstance\u001b[39m(arg, ABCSeries):\n\u001b[1;32m-> 1063\u001b[0m     cache_array \u001b[38;5;241m=\u001b[39m \u001b[43m_maybe_cache\u001b[49m\u001b[43m(\u001b[49m\u001b[43marg\u001b[49m\u001b[43m,\u001b[49m\u001b[43m \u001b[49m\u001b[38;5;28;43mformat\u001b[39;49m\u001b[43m,\u001b[49m\u001b[43m \u001b[49m\u001b[43mcache\u001b[49m\u001b[43m,\u001b[49m\u001b[43m \u001b[49m\u001b[43mconvert_listlike\u001b[49m\u001b[43m)\u001b[49m\n\u001b[0;32m   1064\u001b[0m     \u001b[38;5;28;01mif\u001b[39;00m \u001b[38;5;129;01mnot\u001b[39;00m cache_array\u001b[38;5;241m.\u001b[39mempty:\n\u001b[0;32m   1065\u001b[0m         result \u001b[38;5;241m=\u001b[39m arg\u001b[38;5;241m.\u001b[39mmap(cache_array)\n",
      "File \u001b[1;32mc:\\Users\\ADMIN\\AppData\\Local\\Programs\\Python\\Python312\\Lib\\site-packages\\pandas\\core\\tools\\datetimes.py:247\u001b[0m, in \u001b[0;36m_maybe_cache\u001b[1;34m(arg, format, cache, convert_listlike)\u001b[0m\n\u001b[0;32m    245\u001b[0m unique_dates \u001b[38;5;241m=\u001b[39m unique(arg)\n\u001b[0;32m    246\u001b[0m \u001b[38;5;28;01mif\u001b[39;00m \u001b[38;5;28mlen\u001b[39m(unique_dates) \u001b[38;5;241m<\u001b[39m \u001b[38;5;28mlen\u001b[39m(arg):\n\u001b[1;32m--> 247\u001b[0m     cache_dates \u001b[38;5;241m=\u001b[39m \u001b[43mconvert_listlike\u001b[49m\u001b[43m(\u001b[49m\u001b[43munique_dates\u001b[49m\u001b[43m,\u001b[49m\u001b[43m \u001b[49m\u001b[38;5;28;43mformat\u001b[39;49m\u001b[43m)\u001b[49m\n\u001b[0;32m    248\u001b[0m     \u001b[38;5;66;03m# GH#45319\u001b[39;00m\n\u001b[0;32m    249\u001b[0m     \u001b[38;5;28;01mtry\u001b[39;00m:\n",
      "File \u001b[1;32mc:\\Users\\ADMIN\\AppData\\Local\\Programs\\Python\\Python312\\Lib\\site-packages\\pandas\\core\\tools\\datetimes.py:435\u001b[0m, in \u001b[0;36m_convert_listlike_datetimes\u001b[1;34m(arg, format, name, utc, unit, errors, dayfirst, yearfirst, exact)\u001b[0m\n\u001b[0;32m    432\u001b[0m \u001b[38;5;28;01mif\u001b[39;00m \u001b[38;5;28mformat\u001b[39m \u001b[38;5;129;01mis\u001b[39;00m \u001b[38;5;129;01mnot\u001b[39;00m \u001b[38;5;28;01mNone\u001b[39;00m \u001b[38;5;129;01mand\u001b[39;00m \u001b[38;5;28mformat\u001b[39m \u001b[38;5;241m!=\u001b[39m \u001b[38;5;124m\"\u001b[39m\u001b[38;5;124mmixed\u001b[39m\u001b[38;5;124m\"\u001b[39m:\n\u001b[0;32m    433\u001b[0m     \u001b[38;5;28;01mreturn\u001b[39;00m _array_strptime_with_fallback(arg, name, utc, \u001b[38;5;28mformat\u001b[39m, exact, errors)\n\u001b[1;32m--> 435\u001b[0m result, tz_parsed \u001b[38;5;241m=\u001b[39m \u001b[43mobjects_to_datetime64\u001b[49m\u001b[43m(\u001b[49m\n\u001b[0;32m    436\u001b[0m \u001b[43m    \u001b[49m\u001b[43marg\u001b[49m\u001b[43m,\u001b[49m\n\u001b[0;32m    437\u001b[0m \u001b[43m    \u001b[49m\u001b[43mdayfirst\u001b[49m\u001b[38;5;241;43m=\u001b[39;49m\u001b[43mdayfirst\u001b[49m\u001b[43m,\u001b[49m\n\u001b[0;32m    438\u001b[0m \u001b[43m    \u001b[49m\u001b[43myearfirst\u001b[49m\u001b[38;5;241;43m=\u001b[39;49m\u001b[43myearfirst\u001b[49m\u001b[43m,\u001b[49m\n\u001b[0;32m    439\u001b[0m \u001b[43m    \u001b[49m\u001b[43mutc\u001b[49m\u001b[38;5;241;43m=\u001b[39;49m\u001b[43mutc\u001b[49m\u001b[43m,\u001b[49m\n\u001b[0;32m    440\u001b[0m \u001b[43m    \u001b[49m\u001b[43merrors\u001b[49m\u001b[38;5;241;43m=\u001b[39;49m\u001b[43merrors\u001b[49m\u001b[43m,\u001b[49m\n\u001b[0;32m    441\u001b[0m \u001b[43m    \u001b[49m\u001b[43mallow_object\u001b[49m\u001b[38;5;241;43m=\u001b[39;49m\u001b[38;5;28;43;01mTrue\u001b[39;49;00m\u001b[43m,\u001b[49m\n\u001b[0;32m    442\u001b[0m \u001b[43m\u001b[49m\u001b[43m)\u001b[49m\n\u001b[0;32m    444\u001b[0m \u001b[38;5;28;01mif\u001b[39;00m tz_parsed \u001b[38;5;129;01mis\u001b[39;00m \u001b[38;5;129;01mnot\u001b[39;00m \u001b[38;5;28;01mNone\u001b[39;00m:\n\u001b[0;32m    445\u001b[0m     \u001b[38;5;66;03m# We can take a shortcut since the datetime64 numpy array\u001b[39;00m\n\u001b[0;32m    446\u001b[0m     \u001b[38;5;66;03m# is in UTC\u001b[39;00m\n\u001b[0;32m    447\u001b[0m     out_unit \u001b[38;5;241m=\u001b[39m np\u001b[38;5;241m.\u001b[39mdatetime_data(result\u001b[38;5;241m.\u001b[39mdtype)[\u001b[38;5;241m0\u001b[39m]\n",
      "File \u001b[1;32mc:\\Users\\ADMIN\\AppData\\Local\\Programs\\Python\\Python312\\Lib\\site-packages\\pandas\\core\\arrays\\datetimes.py:2398\u001b[0m, in \u001b[0;36mobjects_to_datetime64\u001b[1;34m(data, dayfirst, yearfirst, utc, errors, allow_object, out_unit)\u001b[0m\n\u001b[0;32m   2395\u001b[0m \u001b[38;5;66;03m# if str-dtype, convert\u001b[39;00m\n\u001b[0;32m   2396\u001b[0m data \u001b[38;5;241m=\u001b[39m np\u001b[38;5;241m.\u001b[39masarray(data, dtype\u001b[38;5;241m=\u001b[39mnp\u001b[38;5;241m.\u001b[39mobject_)\n\u001b[1;32m-> 2398\u001b[0m result, tz_parsed \u001b[38;5;241m=\u001b[39m \u001b[43mtslib\u001b[49m\u001b[38;5;241;43m.\u001b[39;49m\u001b[43marray_to_datetime\u001b[49m\u001b[43m(\u001b[49m\n\u001b[0;32m   2399\u001b[0m \u001b[43m    \u001b[49m\u001b[43mdata\u001b[49m\u001b[43m,\u001b[49m\n\u001b[0;32m   2400\u001b[0m \u001b[43m    \u001b[49m\u001b[43merrors\u001b[49m\u001b[38;5;241;43m=\u001b[39;49m\u001b[43merrors\u001b[49m\u001b[43m,\u001b[49m\n\u001b[0;32m   2401\u001b[0m \u001b[43m    \u001b[49m\u001b[43mutc\u001b[49m\u001b[38;5;241;43m=\u001b[39;49m\u001b[43mutc\u001b[49m\u001b[43m,\u001b[49m\n\u001b[0;32m   2402\u001b[0m \u001b[43m    \u001b[49m\u001b[43mdayfirst\u001b[49m\u001b[38;5;241;43m=\u001b[39;49m\u001b[43mdayfirst\u001b[49m\u001b[43m,\u001b[49m\n\u001b[0;32m   2403\u001b[0m \u001b[43m    \u001b[49m\u001b[43myearfirst\u001b[49m\u001b[38;5;241;43m=\u001b[39;49m\u001b[43myearfirst\u001b[49m\u001b[43m,\u001b[49m\n\u001b[0;32m   2404\u001b[0m \u001b[43m    \u001b[49m\u001b[43mcreso\u001b[49m\u001b[38;5;241;43m=\u001b[39;49m\u001b[43mabbrev_to_npy_unit\u001b[49m\u001b[43m(\u001b[49m\u001b[43mout_unit\u001b[49m\u001b[43m)\u001b[49m\u001b[43m,\u001b[49m\n\u001b[0;32m   2405\u001b[0m \u001b[43m\u001b[49m\u001b[43m)\u001b[49m\n\u001b[0;32m   2407\u001b[0m \u001b[38;5;28;01mif\u001b[39;00m tz_parsed \u001b[38;5;129;01mis\u001b[39;00m \u001b[38;5;129;01mnot\u001b[39;00m \u001b[38;5;28;01mNone\u001b[39;00m:\n\u001b[0;32m   2408\u001b[0m     \u001b[38;5;66;03m# We can take a shortcut since the datetime64 numpy array\u001b[39;00m\n\u001b[0;32m   2409\u001b[0m     \u001b[38;5;66;03m#  is in UTC\u001b[39;00m\n\u001b[0;32m   2410\u001b[0m     \u001b[38;5;28;01mreturn\u001b[39;00m result, tz_parsed\n",
      "File \u001b[1;32mtslib.pyx:414\u001b[0m, in \u001b[0;36mpandas._libs.tslib.array_to_datetime\u001b[1;34m()\u001b[0m\n",
      "File \u001b[1;32mtslib.pyx:596\u001b[0m, in \u001b[0;36mpandas._libs.tslib.array_to_datetime\u001b[1;34m()\u001b[0m\n",
      "File \u001b[1;32mtslib.pyx:553\u001b[0m, in \u001b[0;36mpandas._libs.tslib.array_to_datetime\u001b[1;34m()\u001b[0m\n",
      "File \u001b[1;32mconversion.pyx:641\u001b[0m, in \u001b[0;36mpandas._libs.tslibs.conversion.convert_str_to_tsobject\u001b[1;34m()\u001b[0m\n",
      "File \u001b[1;32mparsing.pyx:336\u001b[0m, in \u001b[0;36mpandas._libs.tslibs.parsing.parse_datetime_string\u001b[1;34m()\u001b[0m\n",
      "File \u001b[1;32mparsing.pyx:688\u001b[0m, in \u001b[0;36mpandas._libs.tslibs.parsing.dateutil_parse\u001b[1;34m()\u001b[0m\n",
      "\u001b[1;31mDateParseError\u001b[0m: year 16500 is out of range: 16500, at position 2896"
     ]
    }
   ],
   "source": [
    "\n",
    "car_prices['saledate'] = pd.to_datetime(car_prices['saledate'])\n",
    "\n",
    "car_prices['year'] = car_prices['saledate'].dt.year\n",
    "\n",
    "yearly_sales = car_prices['year'].value_counts()\n",
    "\n",
    "most_sales_year = yearly_sales.idxmax()\n",
    "most_sales_count = yearly_sales.max()\n",
    "\n",
    "print(f\"The year with the most car sales is: {most_sales_year} with {most_sales_count} sales.\")\n"
   ]
  },
  {
   "cell_type": "markdown",
   "metadata": {},
   "source": [
    "8. which car has travelled the most distance?(use odometer)"
   ]
  },
  {
   "cell_type": "code",
   "execution_count": 32,
   "metadata": {},
   "outputs": [
    {
     "name": "stdout",
     "output_type": "stream",
     "text": [
      "The car that has traveled the most distance:\n",
      "year                                               2013\n",
      "make                                            Hyundai\n",
      "model                                     Elantra Coupe\n",
      "trim                                                 GS\n",
      "body                                      Elantra Coupe\n",
      "transmission                                  automatic\n",
      "vin                                   kmhdh6ae8du017422\n",
      "state                                                ca\n",
      "condition                                           1.0\n",
      "odometer                                       999999.0\n",
      "color                                              blue\n",
      "interior                                           gray\n",
      "seller                            hyundai motor finance\n",
      "mmr                                              8025.0\n",
      "sellingprice                                     2500.0\n",
      "saledate        Tue Jan 27 2015 04:00:00 GMT-0800 (PST)\n",
      "Name: 275, dtype: object\n"
     ]
    }
   ],
   "source": [
    "max_distance_car = car_prices.loc[car_prices['odometer'].idxmax()]\n",
    "\n",
    "print(\"The car that has traveled the most distance:\")\n",
    "print(max_distance_car)"
   ]
  },
  {
   "cell_type": "markdown",
   "metadata": {},
   "source": [
    "9. which is the most popular car?"
   ]
  },
  {
   "cell_type": "code",
   "execution_count": 33,
   "metadata": {},
   "outputs": [
    {
     "name": "stdout",
     "output_type": "stream",
     "text": [
      "The most popular car model is: Altima\n"
     ]
    }
   ],
   "source": [
    "most_popular_car = car_prices['model'].mode()[0]\n",
    "\n",
    "print(\"The most popular car model is:\", most_popular_car)"
   ]
  },
  {
   "cell_type": "markdown",
   "metadata": {},
   "source": [
    "10. which seller sold the most expensive SUV?"
   ]
  },
  {
   "cell_type": "code",
   "execution_count": 36,
   "metadata": {},
   "outputs": [
    {
     "name": "stdout",
     "output_type": "stream",
     "text": [
      "The seller who sold the most expensive SUV is: ford-lincoln dealer program\n"
     ]
    }
   ],
   "source": [
    "\n",
    "suv_data = car_prices[car_prices['body'].str.contains('SUV', na=False, case=False)]\n",
    "\n",
    "most_expensive_suv = suv_data.loc[suv_data['sellingprice'].idxmax()]\n",
    "\n",
    "seller_most_expensive_suv = most_expensive_suv['seller']\n",
    "\n",
    "print(\"The seller who sold the most expensive SUV is:\", seller_most_expensive_suv)\n"
   ]
  },
  {
   "cell_type": "code",
   "execution_count": null,
   "metadata": {},
   "outputs": [],
   "source": []
  }
 ],
 "metadata": {
  "kernelspec": {
   "display_name": "Python 3",
   "language": "python",
   "name": "python3"
  },
  "language_info": {
   "codemirror_mode": {
    "name": "ipython",
    "version": 3
   },
   "file_extension": ".py",
   "mimetype": "text/x-python",
   "name": "python",
   "nbconvert_exporter": "python",
   "pygments_lexer": "ipython3",
   "version": "3.12.3"
  }
 },
 "nbformat": 4,
 "nbformat_minor": 2
}
